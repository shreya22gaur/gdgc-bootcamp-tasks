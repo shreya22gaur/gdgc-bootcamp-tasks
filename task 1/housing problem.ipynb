{
 "cells": [
  {
   "cell_type": "code",
   "execution_count": 1,
   "id": "688a5d3d",
   "metadata": {
    "execution": {
     "iopub.execute_input": "2025-01-15T16:28:57.560237Z",
     "iopub.status.busy": "2025-01-15T16:28:57.559911Z",
     "iopub.status.idle": "2025-01-15T16:29:00.238973Z",
     "shell.execute_reply": "2025-01-15T16:29:00.237908Z"
    },
    "papermill": {
     "duration": 2.685318,
     "end_time": "2025-01-15T16:29:00.240955",
     "exception": false,
     "start_time": "2025-01-15T16:28:57.555637",
     "status": "completed"
    },
    "tags": []
   },
   "outputs": [],
   "source": [
    "#implementation of libraries\n",
    "import pandas as pd\n",
    "from sklearn.model_selection import train_test_split\n",
    "from sklearn.ensemble import RandomForestRegressor\n",
    "from sklearn.metrics import mean_absolute_error"
   ]
  },
  {
   "cell_type": "code",
   "execution_count": 2,
   "id": "57037d91",
   "metadata": {
    "execution": {
     "iopub.execute_input": "2025-01-15T16:29:00.247683Z",
     "iopub.status.busy": "2025-01-15T16:29:00.247159Z",
     "iopub.status.idle": "2025-01-15T16:29:00.268325Z",
     "shell.execute_reply": "2025-01-15T16:29:00.267128Z"
    },
    "papermill": {
     "duration": 0.026284,
     "end_time": "2025-01-15T16:29:00.270126",
     "exception": false,
     "start_time": "2025-01-15T16:29:00.243842",
     "status": "completed"
    },
    "tags": []
   },
   "outputs": [],
   "source": [
    "# Load dataset\n",
    "data = pd.read_csv('/kaggle/input/housing-prices-dataset/Housing.csv')"
   ]
  },
  {
   "cell_type": "code",
   "execution_count": 3,
   "id": "7ccbf14d",
   "metadata": {
    "execution": {
     "iopub.execute_input": "2025-01-15T16:29:00.276475Z",
     "iopub.status.busy": "2025-01-15T16:29:00.276146Z",
     "iopub.status.idle": "2025-01-15T16:29:00.808410Z",
     "shell.execute_reply": "2025-01-15T16:29:00.807062Z"
    },
    "papermill": {
     "duration": 0.537572,
     "end_time": "2025-01-15T16:29:00.810318",
     "exception": false,
     "start_time": "2025-01-15T16:29:00.272746",
     "status": "completed"
    },
    "tags": []
   },
   "outputs": [
    {
     "name": "stdout",
     "output_type": "stream",
     "text": [
      "Path to dataset files: /kaggle/input/housing-prices-dataset\n"
     ]
    }
   ],
   "source": [
    "import kagglehub\n",
    "\n",
    "# Download latest version\n",
    "path = kagglehub.dataset_download(\"yasserh/housing-prices-dataset\")\n",
    "\n",
    "print(\"Path to dataset files:\", path)"
   ]
  },
  {
   "cell_type": "code",
   "execution_count": 4,
   "id": "e66b12ac",
   "metadata": {
    "execution": {
     "iopub.execute_input": "2025-01-15T16:29:00.817947Z",
     "iopub.status.busy": "2025-01-15T16:29:00.817595Z",
     "iopub.status.idle": "2025-01-15T16:29:00.855879Z",
     "shell.execute_reply": "2025-01-15T16:29:00.854644Z"
    },
    "papermill": {
     "duration": 0.043242,
     "end_time": "2025-01-15T16:29:00.857439",
     "exception": false,
     "start_time": "2025-01-15T16:29:00.814197",
     "status": "completed"
    },
    "tags": []
   },
   "outputs": [
    {
     "name": "stdout",
     "output_type": "stream",
     "text": [
      "   area  bedrooms  bathrooms  stories  parking  mainroad_yes  guestroom_yes  \\\n",
      "0  7420         4          2        3        2          True          False   \n",
      "1  8960         4          4        4        3          True          False   \n",
      "2  9960         3          2        2        2          True          False   \n",
      "3  7500         4          2        2        3          True          False   \n",
      "4  7420         4          1        2        2          True           True   \n",
      "\n",
      "   basement_yes  hotwaterheating_yes  airconditioning_yes  prefarea_yes  \\\n",
      "0         False                False                 True          True   \n",
      "1         False                False                 True         False   \n",
      "2          True                False                False          True   \n",
      "3          True                False                 True          True   \n",
      "4          True                False                 True         False   \n",
      "\n",
      "   furnishingstatus_semi-furnished  furnishingstatus_unfurnished  \n",
      "0                            False                         False  \n",
      "1                            False                         False  \n",
      "2                             True                         False  \n",
      "3                            False                         False  \n",
      "4                            False                         False  \n",
      "0    13300000\n",
      "1    12250000\n",
      "2    12250000\n",
      "3    12215000\n",
      "4    11410000\n",
      "Name: price, dtype: int64\n"
     ]
    }
   ],
   "source": [
    "# Preprocessing the dataset\n",
    "X = data.drop('price', axis=1)  # Use 'Price' (uppercase P) as per your dataset\n",
    "y = data['price']              # Ensure the same here\n",
    "\n",
    "# If there are categorical variables (not in this case), convert them using get_dummies\n",
    "X = pd.get_dummies(X, drop_first=True)\n",
    "\n",
    "# Display the preprocessed data\n",
    "print(X.head())\n",
    "print(y.head())"
   ]
  },
  {
   "cell_type": "code",
   "execution_count": 5,
   "id": "d7368286",
   "metadata": {
    "execution": {
     "iopub.execute_input": "2025-01-15T16:29:00.863904Z",
     "iopub.status.busy": "2025-01-15T16:29:00.863566Z",
     "iopub.status.idle": "2025-01-15T16:29:00.874270Z",
     "shell.execute_reply": "2025-01-15T16:29:00.872453Z"
    },
    "papermill": {
     "duration": 0.01602,
     "end_time": "2025-01-15T16:29:00.876184",
     "exception": false,
     "start_time": "2025-01-15T16:29:00.860164",
     "status": "completed"
    },
    "tags": []
   },
   "outputs": [
    {
     "name": "stdout",
     "output_type": "stream",
     "text": [
      "Training set shape: X_train=(436, 13), y_train=(436,)\n",
      "Testing set shape: X_test=(109, 13), y_test=(109,)\n"
     ]
    }
   ],
   "source": [
    "from sklearn.model_selection import train_test_split\n",
    "\n",
    "# Split data into training and testing sets\n",
    "X_train, X_test, y_train, y_test = train_test_split(X, y, test_size=0.2, random_state=42)\n",
    "\n",
    "# Print the shapes of the resulting datasets\n",
    "print(f\"Training set shape: X_train={X_train.shape}, y_train={y_train.shape}\")\n",
    "print(f\"Testing set shape: X_test={X_test.shape}, y_test={y_test.shape}\")"
   ]
  },
  {
   "cell_type": "code",
   "execution_count": 6,
   "id": "5ee03f70",
   "metadata": {
    "execution": {
     "iopub.execute_input": "2025-01-15T16:29:00.883268Z",
     "iopub.status.busy": "2025-01-15T16:29:00.882805Z",
     "iopub.status.idle": "2025-01-15T16:29:01.137499Z",
     "shell.execute_reply": "2025-01-15T16:29:01.136332Z"
    },
    "papermill": {
     "duration": 0.260217,
     "end_time": "2025-01-15T16:29:01.139281",
     "exception": false,
     "start_time": "2025-01-15T16:29:00.879064",
     "status": "completed"
    },
    "tags": []
   },
   "outputs": [
    {
     "name": "stdout",
     "output_type": "stream",
     "text": [
      "Training score: 0.9498833271635604\n",
      "Testing score: 0.611918531405699\n"
     ]
    }
   ],
   "source": [
    "from sklearn.ensemble import RandomForestRegressor\n",
    "\n",
    "# Train the model\n",
    "model = RandomForestRegressor(random_state=42)\n",
    "model.fit(X_train, y_train)\n",
    "\n",
    "# Optionally, check the model's performance on the training set\n",
    "print(f\"Training score: {model.score(X_train, y_train)}\")\n",
    "\n",
    "# Optionally, check the model's performance on the testing set\n",
    "print(f\"Testing score: {model.score(X_test, y_test)}\")"
   ]
  },
  {
   "cell_type": "code",
   "execution_count": 7,
   "id": "eb5daca9",
   "metadata": {
    "execution": {
     "iopub.execute_input": "2025-01-15T16:29:01.146387Z",
     "iopub.status.busy": "2025-01-15T16:29:01.146025Z",
     "iopub.status.idle": "2025-01-15T16:29:01.160275Z",
     "shell.execute_reply": "2025-01-15T16:29:01.158757Z"
    },
    "papermill": {
     "duration": 0.020027,
     "end_time": "2025-01-15T16:29:01.162341",
     "exception": false,
     "start_time": "2025-01-15T16:29:01.142314",
     "status": "completed"
    },
    "tags": []
   },
   "outputs": [
    {
     "name": "stdout",
     "output_type": "stream",
     "text": [
      "Mean Absolute Error: 1021546.0353211008\n"
     ]
    }
   ],
   "source": [
    "from sklearn.metrics import mean_absolute_error\n",
    "\n",
    "# Predict on the test data\n",
    "y_pred = model.predict(X_test)\n",
    "\n",
    "# Calculate Mean Absolute Error (MAE)\n",
    "mae = mean_absolute_error(y_test, y_pred)\n",
    "\n",
    "# Print the MAE value\n",
    "print(f\"Mean Absolute Error: {mae}\")"
   ]
  }
 ],
 "metadata": {
  "kaggle": {
   "accelerator": "none",
   "dataSources": [
    {
     "databundleVersionId": 111096,
     "sourceId": 10211,
     "sourceType": "competition"
    },
    {
     "datasetId": 1859421,
     "sourceId": 3036086,
     "sourceType": "datasetVersion"
    }
   ],
   "dockerImageVersionId": 30839,
   "isGpuEnabled": false,
   "isInternetEnabled": false,
   "language": "python",
   "sourceType": "notebook"
  },
  "kernelspec": {
   "display_name": "Python 3",
   "language": "python",
   "name": "python3"
  },
  "language_info": {
   "codemirror_mode": {
    "name": "ipython",
    "version": 3
   },
   "file_extension": ".py",
   "mimetype": "text/x-python",
   "name": "python",
   "nbconvert_exporter": "python",
   "pygments_lexer": "ipython3",
   "version": "3.10.12"
  },
  "papermill": {
   "default_parameters": {},
   "duration": 7.260638,
   "end_time": "2025-01-15T16:29:01.987307",
   "environment_variables": {},
   "exception": null,
   "input_path": "__notebook__.ipynb",
   "output_path": "__notebook__.ipynb",
   "parameters": {},
   "start_time": "2025-01-15T16:28:54.726669",
   "version": "2.6.0"
  }
 },
 "nbformat": 4,
 "nbformat_minor": 5
}
